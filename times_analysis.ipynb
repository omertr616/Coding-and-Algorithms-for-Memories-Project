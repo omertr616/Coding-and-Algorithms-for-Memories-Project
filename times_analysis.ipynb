{
 "cells": [
  {
   "cell_type": "markdown",
   "id": "2f36ac65-35d5-4751-9127-07e7a69fd9e7",
   "metadata": {},
   "source": [
    "Runtime Analysis\n",
    "================"
   ]
  },
  {
   "cell_type": "markdown",
   "id": "e8c1fb62-ca0f-4229-909b-944f6046a45b",
   "metadata": {},
   "source": [
    "We measured the running time over 100 runs and took the average.  \n",
    "Each graph presents the runtime as a function of a single varying parameter.  \n",
    "The measurements were performed on randomly generated sequences and random deletions."
   ]
  },
  {
   "cell_type": "markdown",
   "id": "e4311a8e-4571-4aa4-ac0b-41e59fd669a4",
   "metadata": {},
   "source": [
    "***Notations:***\n",
    "* $n$ - Original sequence length.\n",
    "* $t$ - Number of deletions.\n",
    "* $k$ - Number of sequences."
   ]
  },
  {
   "cell_type": "code",
   "execution_count": 1,
   "id": "53c14e24-aa4e-4540-b054-77b3c39eb2cb",
   "metadata": {},
   "outputs": [],
   "source": [
    "import pandas as pd\n",
    "import numpy as np"
   ]
  },
  {
   "cell_type": "markdown",
   "id": "580ed41a-436f-40c1-a621-09a364f9e2b9",
   "metadata": {},
   "source": [
    "### Experiment 1\n",
    "\n",
    "We set the parameters as follows:  \n",
    "- $n = 10,000$  \n",
    "- $t \\in \\{10, 15, 20, \\cdots, 60\\}$  \n",
    "- $k = 10$"
   ]
  },
  {
   "cell_type": "code",
   "execution_count": 2,
   "id": "4c12203c-8db9-4cbd-9bcc-c688d827708d",
   "metadata": {},
   "outputs": [
    {
     "data": {
      "text/html": [
       "<div>\n",
       "<style scoped>\n",
       "    .dataframe tbody tr th:only-of-type {\n",
       "        vertical-align: middle;\n",
       "    }\n",
       "\n",
       "    .dataframe tbody tr th {\n",
       "        vertical-align: top;\n",
       "    }\n",
       "\n",
       "    .dataframe thead th {\n",
       "        text-align: right;\n",
       "    }\n",
       "</style>\n",
       "<table border=\"1\" class=\"dataframe\">\n",
       "  <thead>\n",
       "    <tr style=\"text-align: right;\">\n",
       "      <th></th>\n",
       "      <th>n</th>\n",
       "      <th>t</th>\n",
       "      <th>k</th>\n",
       "      <th>Time(s)</th>\n",
       "    </tr>\n",
       "  </thead>\n",
       "  <tbody>\n",
       "    <tr>\n",
       "      <th>0</th>\n",
       "      <td>10000</td>\n",
       "      <td>10</td>\n",
       "      <td>10</td>\n",
       "      <td>64640112</td>\n",
       "    </tr>\n",
       "    <tr>\n",
       "      <th>1</th>\n",
       "      <td>10000</td>\n",
       "      <td>15</td>\n",
       "      <td>10</td>\n",
       "      <td>93751105</td>\n",
       "    </tr>\n",
       "    <tr>\n",
       "      <th>2</th>\n",
       "      <td>10000</td>\n",
       "      <td>20</td>\n",
       "      <td>10</td>\n",
       "      <td>163241417</td>\n",
       "    </tr>\n",
       "    <tr>\n",
       "      <th>3</th>\n",
       "      <td>10000</td>\n",
       "      <td>25</td>\n",
       "      <td>10</td>\n",
       "      <td>313310755</td>\n",
       "    </tr>\n",
       "    <tr>\n",
       "      <th>4</th>\n",
       "      <td>10000</td>\n",
       "      <td>30</td>\n",
       "      <td>10</td>\n",
       "      <td>651047841</td>\n",
       "    </tr>\n",
       "    <tr>\n",
       "      <th>5</th>\n",
       "      <td>10000</td>\n",
       "      <td>35</td>\n",
       "      <td>10</td>\n",
       "      <td>1469025632</td>\n",
       "    </tr>\n",
       "    <tr>\n",
       "      <th>6</th>\n",
       "      <td>10000</td>\n",
       "      <td>40</td>\n",
       "      <td>10</td>\n",
       "      <td>3205524091</td>\n",
       "    </tr>\n",
       "    <tr>\n",
       "      <th>7</th>\n",
       "      <td>10000</td>\n",
       "      <td>45</td>\n",
       "      <td>10</td>\n",
       "      <td>7435007662</td>\n",
       "    </tr>\n",
       "    <tr>\n",
       "      <th>8</th>\n",
       "      <td>10000</td>\n",
       "      <td>50</td>\n",
       "      <td>10</td>\n",
       "      <td>17207250103</td>\n",
       "    </tr>\n",
       "    <tr>\n",
       "      <th>9</th>\n",
       "      <td>10000</td>\n",
       "      <td>55</td>\n",
       "      <td>10</td>\n",
       "      <td>37479387277</td>\n",
       "    </tr>\n",
       "    <tr>\n",
       "      <th>10</th>\n",
       "      <td>10000</td>\n",
       "      <td>60</td>\n",
       "      <td>10</td>\n",
       "      <td>94967769256</td>\n",
       "    </tr>\n",
       "  </tbody>\n",
       "</table>\n",
       "</div>"
      ],
      "text/plain": [
       "        n   t   k      Time(s)\n",
       "0   10000  10  10     64640112\n",
       "1   10000  15  10     93751105\n",
       "2   10000  20  10    163241417\n",
       "3   10000  25  10    313310755\n",
       "4   10000  30  10    651047841\n",
       "5   10000  35  10   1469025632\n",
       "6   10000  40  10   3205524091\n",
       "7   10000  45  10   7435007662\n",
       "8   10000  50  10  17207250103\n",
       "9   10000  55  10  37479387277\n",
       "10  10000  60  10  94967769256"
      ]
     },
     "execution_count": 2,
     "metadata": {},
     "output_type": "execute_result"
    }
   ],
   "source": [
    "df = pd.read_csv('empirical_results/t-results.csv')\n",
    "df"
   ]
  },
  {
   "cell_type": "markdown",
   "id": "b065025d-996e-4192-bf03-6dbea6f1f660",
   "metadata": {},
   "source": [
    "The times reported above are in nanoseconds."
   ]
  },
  {
   "cell_type": "code",
   "execution_count": 3,
   "id": "36a45e67-e306-4d21-a708-f15b1b3e264c",
   "metadata": {
    "scrolled": true
   },
   "outputs": [
    {
     "data": {
      "text/plain": [
       "<AxesSubplot:xlabel='t'>"
      ]
     },
     "execution_count": 3,
     "metadata": {},
     "output_type": "execute_result"
    },
    {
     "data": {
      "image/png": "[encoded data removed]",
      "text/plain": [
       "<Figure size 640x480 with 1 Axes>"
      ]
     },
     "metadata": {},
     "output_type": "display_data"
    }
   ],
   "source": [
    "df = df.set_index('t')\n",
    "df['Time(s)'].plot()"
   ]
  },
  {
   "cell_type": "markdown",
   "id": "ce9446b1-474d-4046-88e5-25da99090ba7",
   "metadata": {},
   "source": [
    "The results show exponential growth. To linearize the trend, we apply a logarithmic transformation."
   ]
  },
  {
   "cell_type": "code",
   "execution_count": 4,
   "id": "7ff807d2-6258-4ef5-9447-fdb044a24c65",
   "metadata": {},
   "outputs": [
    {
     "data": {
      "text/plain": [
       "<AxesSubplot:xlabel='t'>"
      ]
     },
     "execution_count": 4,
     "metadata": {},
     "output_type": "execute_result"
    },
    {
     "data": {
      "image/png": "[encoded data removed]",
      "text/plain": [
       "<Figure size 640x480 with 1 Axes>"
      ]
     },
     "metadata": {},
     "output_type": "display_data"
    }
   ],
   "source": [
    "df['log(Time)'] = df['Time(s)'].apply(np.log)\n",
    "df['log(Time)'].plot()"
   ]
  },
  {
   "cell_type": "markdown",
   "id": "272535b6-d383-49a8-8d5c-b70274e281aa",
   "metadata": {},
   "source": [
    "After applying the logarithmic transformation, the results exhibit a linear trend."
   ]
  },
  {
   "cell_type": "markdown",
   "id": "767c8205-4f04-451d-9371-1c68f3a6a291",
   "metadata": {},
   "source": [
    "### Experiment 2\n",
    "\n",
    "We set the parameters as follows:  \n",
    "- $n = 10,000$  \n",
    "- $t = 10$  \n",
    "- $k \\in \\{50, 100, 150, \\cdots, 750\\}$"
   ]
  },
  {
   "cell_type": "code",
   "execution_count": 5,
   "id": "ed11a296-4662-43a0-80ab-41a2d5158078",
   "metadata": {},
   "outputs": [
    {
     "data": {
      "text/html": [
       "<div>\n",
       "<style scoped>\n",
       "    .dataframe tbody tr th:only-of-type {\n",
       "        vertical-align: middle;\n",
       "    }\n",
       "\n",
       "    .dataframe tbody tr th {\n",
       "        vertical-align: top;\n",
       "    }\n",
       "\n",
       "    .dataframe thead th {\n",
       "        text-align: right;\n",
       "    }\n",
       "</style>\n",
       "<table border=\"1\" class=\"dataframe\">\n",
       "  <thead>\n",
       "    <tr style=\"text-align: right;\">\n",
       "      <th></th>\n",
       "      <th>n</th>\n",
       "      <th>t</th>\n",
       "      <th>k</th>\n",
       "      <th>Time(s)</th>\n",
       "    </tr>\n",
       "  </thead>\n",
       "  <tbody>\n",
       "    <tr>\n",
       "      <th>0</th>\n",
       "      <td>10000</td>\n",
       "      <td>10</td>\n",
       "      <td>50</td>\n",
       "      <td>247376346</td>\n",
       "    </tr>\n",
       "    <tr>\n",
       "      <th>1</th>\n",
       "      <td>10000</td>\n",
       "      <td>10</td>\n",
       "      <td>100</td>\n",
       "      <td>627100734</td>\n",
       "    </tr>\n",
       "    <tr>\n",
       "      <th>2</th>\n",
       "      <td>10000</td>\n",
       "      <td>10</td>\n",
       "      <td>150</td>\n",
       "      <td>1176892267</td>\n",
       "    </tr>\n",
       "    <tr>\n",
       "      <th>3</th>\n",
       "      <td>10000</td>\n",
       "      <td>10</td>\n",
       "      <td>200</td>\n",
       "      <td>1943460488</td>\n",
       "    </tr>\n",
       "    <tr>\n",
       "      <th>4</th>\n",
       "      <td>10000</td>\n",
       "      <td>10</td>\n",
       "      <td>250</td>\n",
       "      <td>2938430298</td>\n",
       "    </tr>\n",
       "    <tr>\n",
       "      <th>5</th>\n",
       "      <td>10000</td>\n",
       "      <td>10</td>\n",
       "      <td>300</td>\n",
       "      <td>4158848134</td>\n",
       "    </tr>\n",
       "    <tr>\n",
       "      <th>6</th>\n",
       "      <td>10000</td>\n",
       "      <td>10</td>\n",
       "      <td>350</td>\n",
       "      <td>5605276238</td>\n",
       "    </tr>\n",
       "    <tr>\n",
       "      <th>7</th>\n",
       "      <td>10000</td>\n",
       "      <td>10</td>\n",
       "      <td>400</td>\n",
       "      <td>7362837388</td>\n",
       "    </tr>\n",
       "    <tr>\n",
       "      <th>8</th>\n",
       "      <td>10000</td>\n",
       "      <td>10</td>\n",
       "      <td>450</td>\n",
       "      <td>9347597265</td>\n",
       "    </tr>\n",
       "    <tr>\n",
       "      <th>9</th>\n",
       "      <td>10000</td>\n",
       "      <td>10</td>\n",
       "      <td>500</td>\n",
       "      <td>11766346845</td>\n",
       "    </tr>\n",
       "    <tr>\n",
       "      <th>10</th>\n",
       "      <td>10000</td>\n",
       "      <td>10</td>\n",
       "      <td>550</td>\n",
       "      <td>14569872194</td>\n",
       "    </tr>\n",
       "    <tr>\n",
       "      <th>11</th>\n",
       "      <td>10000</td>\n",
       "      <td>10</td>\n",
       "      <td>600</td>\n",
       "      <td>17646442359</td>\n",
       "    </tr>\n",
       "    <tr>\n",
       "      <th>12</th>\n",
       "      <td>10000</td>\n",
       "      <td>10</td>\n",
       "      <td>650</td>\n",
       "      <td>20443922544</td>\n",
       "    </tr>\n",
       "    <tr>\n",
       "      <th>13</th>\n",
       "      <td>10000</td>\n",
       "      <td>10</td>\n",
       "      <td>700</td>\n",
       "      <td>23701360697</td>\n",
       "    </tr>\n",
       "    <tr>\n",
       "      <th>14</th>\n",
       "      <td>10000</td>\n",
       "      <td>10</td>\n",
       "      <td>750</td>\n",
       "      <td>28037720462</td>\n",
       "    </tr>\n",
       "  </tbody>\n",
       "</table>\n",
       "</div>"
      ],
      "text/plain": [
       "        n   t    k      Time(s)\n",
       "0   10000  10   50    247376346\n",
       "1   10000  10  100    627100734\n",
       "2   10000  10  150   1176892267\n",
       "3   10000  10  200   1943460488\n",
       "4   10000  10  250   2938430298\n",
       "5   10000  10  300   4158848134\n",
       "6   10000  10  350   5605276238\n",
       "7   10000  10  400   7362837388\n",
       "8   10000  10  450   9347597265\n",
       "9   10000  10  500  11766346845\n",
       "10  10000  10  550  14569872194\n",
       "11  10000  10  600  17646442359\n",
       "12  10000  10  650  20443922544\n",
       "13  10000  10  700  23701360697\n",
       "14  10000  10  750  28037720462"
      ]
     },
     "execution_count": 5,
     "metadata": {},
     "output_type": "execute_result"
    }
   ],
   "source": [
    "df = pd.read_csv('empirical_results/k-results.csv')\n",
    "df"
   ]
  },
  {
   "cell_type": "markdown",
   "id": "98cac7f4-ef3e-4915-80e9-50d6d3f90d69",
   "metadata": {},
   "source": [
    "***Let's plot the graph***"
   ]
  },
  {
   "cell_type": "code",
   "execution_count": 6,
   "id": "2bc2e703-e4c8-4f2c-a033-c99795a0bb0e",
   "metadata": {},
   "outputs": [
    {
     "data": {
      "text/plain": [
       "<AxesSubplot:xlabel='k'>"
      ]
     },
     "execution_count": 6,
     "metadata": {},
     "output_type": "execute_result"
    },
    {
     "data": {
      "image/png": "[encoded data removed]",
      "text/plain": [
       "<Figure size 640x480 with 1 Axes>"
      ]
     },
     "metadata": {},
     "output_type": "display_data"
    }
   ],
   "source": [
    "df = df.set_index('k')\n",
    "df['Time(s)'].plot()"
   ]
  },
  {
   "cell_type": "markdown",
   "id": "b8337e9b-30ae-4d1d-ad7f-1f0e0795a237",
   "metadata": {},
   "source": [
    "Looks like $f(x)=x^2$, let's apply the square root transformation."
   ]
  },
  {
   "cell_type": "code",
   "execution_count": 7,
   "id": "6a59b5bc-2409-48ea-ba75-8a3d05f58d19",
   "metadata": {},
   "outputs": [
    {
     "data": {
      "text/plain": [
       "<AxesSubplot:xlabel='k'>"
      ]
     },
     "execution_count": 7,
     "metadata": {},
     "output_type": "execute_result"
    },
    {
     "data": {
      "image/png": "[encoded data removed]",
      "text/plain": [
       "<Figure size 640x480 with 1 Axes>"
      ]
     },
     "metadata": {},
     "output_type": "display_data"
    }
   ],
   "source": [
    "df['sqrt(Time)'] = df['Time(s)'].apply(np.sqrt)\n",
    "df['sqrt(Time)'].plot()"
   ]
  },
  {
   "cell_type": "markdown",
   "id": "40d6454a-88f7-40b3-af38-1e00a504016c",
   "metadata": {},
   "source": [
    "After applying the square root transformation, the results exhibit a linear trend."
   ]
  },
  {
   "cell_type": "markdown",
   "id": "05496ed2-aca7-4ca1-8fdb-88addf82cf00",
   "metadata": {},
   "source": [
    "### Experiment 3\n",
    "\n",
    "We set the parameters as follows:  \n",
    "- $n \\in \\{1000, 1500, 2000, \\cdots, 6000\\}$  \n",
    "- $t = 10$  \n",
    "- $k = 10$"
   ]
  },
  {
   "cell_type": "code",
   "execution_count": 8,
   "id": "277717af-674c-4f03-a3fd-b15443059fa8",
   "metadata": {},
   "outputs": [
    {
     "data": {
      "text/html": [
       "<div>\n",
       "<style scoped>\n",
       "    .dataframe tbody tr th:only-of-type {\n",
       "        vertical-align: middle;\n",
       "    }\n",
       "\n",
       "    .dataframe tbody tr th {\n",
       "        vertical-align: top;\n",
       "    }\n",
       "\n",
       "    .dataframe thead th {\n",
       "        text-align: right;\n",
       "    }\n",
       "</style>\n",
       "<table border=\"1\" class=\"dataframe\">\n",
       "  <thead>\n",
       "    <tr style=\"text-align: right;\">\n",
       "      <th></th>\n",
       "      <th>n</th>\n",
       "      <th>t</th>\n",
       "      <th>k</th>\n",
       "      <th>Time(s)</th>\n",
       "    </tr>\n",
       "  </thead>\n",
       "  <tbody>\n",
       "    <tr>\n",
       "      <th>0</th>\n",
       "      <td>1000</td>\n",
       "      <td>10</td>\n",
       "      <td>10</td>\n",
       "      <td>17388711</td>\n",
       "    </tr>\n",
       "    <tr>\n",
       "      <th>1</th>\n",
       "      <td>1500</td>\n",
       "      <td>10</td>\n",
       "      <td>10</td>\n",
       "      <td>18967641</td>\n",
       "    </tr>\n",
       "    <tr>\n",
       "      <th>2</th>\n",
       "      <td>2000</td>\n",
       "      <td>10</td>\n",
       "      <td>10</td>\n",
       "      <td>21370432</td>\n",
       "    </tr>\n",
       "    <tr>\n",
       "      <th>3</th>\n",
       "      <td>2500</td>\n",
       "      <td>10</td>\n",
       "      <td>10</td>\n",
       "      <td>23846951</td>\n",
       "    </tr>\n",
       "    <tr>\n",
       "      <th>4</th>\n",
       "      <td>3000</td>\n",
       "      <td>10</td>\n",
       "      <td>10</td>\n",
       "      <td>25974093</td>\n",
       "    </tr>\n",
       "    <tr>\n",
       "      <th>5</th>\n",
       "      <td>3500</td>\n",
       "      <td>10</td>\n",
       "      <td>10</td>\n",
       "      <td>28232549</td>\n",
       "    </tr>\n",
       "    <tr>\n",
       "      <th>6</th>\n",
       "      <td>4000</td>\n",
       "      <td>10</td>\n",
       "      <td>10</td>\n",
       "      <td>31250107</td>\n",
       "    </tr>\n",
       "    <tr>\n",
       "      <th>7</th>\n",
       "      <td>4500</td>\n",
       "      <td>10</td>\n",
       "      <td>10</td>\n",
       "      <td>33263511</td>\n",
       "    </tr>\n",
       "    <tr>\n",
       "      <th>8</th>\n",
       "      <td>5000</td>\n",
       "      <td>10</td>\n",
       "      <td>10</td>\n",
       "      <td>35903290</td>\n",
       "    </tr>\n",
       "    <tr>\n",
       "      <th>9</th>\n",
       "      <td>5500</td>\n",
       "      <td>10</td>\n",
       "      <td>10</td>\n",
       "      <td>38883768</td>\n",
       "    </tr>\n",
       "    <tr>\n",
       "      <th>10</th>\n",
       "      <td>6000</td>\n",
       "      <td>10</td>\n",
       "      <td>10</td>\n",
       "      <td>40964429</td>\n",
       "    </tr>\n",
       "  </tbody>\n",
       "</table>\n",
       "</div>"
      ],
      "text/plain": [
       "       n   t   k   Time(s)\n",
       "0   1000  10  10  17388711\n",
       "1   1500  10  10  18967641\n",
       "2   2000  10  10  21370432\n",
       "3   2500  10  10  23846951\n",
       "4   3000  10  10  25974093\n",
       "5   3500  10  10  28232549\n",
       "6   4000  10  10  31250107\n",
       "7   4500  10  10  33263511\n",
       "8   5000  10  10  35903290\n",
       "9   5500  10  10  38883768\n",
       "10  6000  10  10  40964429"
      ]
     },
     "execution_count": 8,
     "metadata": {},
     "output_type": "execute_result"
    }
   ],
   "source": [
    "df = pd.read_csv('empirical_results/n-average-over-1000-results.csv')\n",
    "df"
   ]
  },
  {
   "cell_type": "code",
   "execution_count": 9,
   "id": "4a11516a-a4c7-41a0-80ec-8f480b38db49",
   "metadata": {},
   "outputs": [
    {
     "data": {
      "text/plain": [
       "<AxesSubplot:xlabel='n'>"
      ]
     },
     "execution_count": 9,
     "metadata": {},
     "output_type": "execute_result"
    },
    {
     "data": {
      "image/png": "[encoded data removed]",
      "text/plain": [
       "<Figure size 640x480 with 1 Axes>"
      ]
     },
     "metadata": {},
     "output_type": "display_data"
    }
   ],
   "source": [
    "df = df.set_index('n')\n",
    "df['Time(s)'].plot()"
   ]
  },
  {
   "cell_type": "markdown",
   "id": "8d721ac4-694b-49ab-962c-3843bbb3a1d7",
   "metadata": {},
   "source": [
    "The results appear linear, as expected."
   ]
  }
 ],
 "metadata": {
  "kernelspec": {
   "display_name": "Python 3 (ipykernel)",
   "language": "python",
   "name": "python3"
  },
  "language_info": {
   "codemirror_mode": {
    "name": "ipython",
    "version": 3
   },
   "file_extension": ".py",
   "mimetype": "text/x-python",
   "name": "python",
   "nbconvert_exporter": "python",
   "pygments_lexer": "ipython3",
   "version": "3.8.12"
  }
 },
 "nbformat": 4,
 "nbformat_minor": 5
}
